{
 "cells": [
  {
   "cell_type": "code",
   "execution_count": null,
   "id": "08ceeb98",
   "metadata": {},
   "outputs": [],
   "source": [
    "import pandas as pd\n",
    "import numpy as np\n",
    "import subprocess\n",
    "import base64\n",
    "from ffmpy import FFmpeg\n",
    "import os\n",
    "import shutil\n",
    "import soundfile as sf"
   ]
  },
  {
   "cell_type": "code",
   "execution_count": null,
   "id": "de7a95de",
   "metadata": {},
   "outputs": [],
   "source": [
    "# first way of converting text to audio\n",
    "\n",
    "# read text file\n",
    "path = '/Downloads/jatos_results.txt'\n",
    "f = open(path,'r')\n",
    "f = f.read()\n",
    "# split to get the audio part\n",
    "aud = f.split('\",\"response\":\"')[5].split('\"audio_url\"')[0]\n",
    "# create a file in .webm format \n",
    "outdir = '/documents/testnew'\n",
    "decoded = base64.b64decode(aud)\n",
    "webmfile = (outdir+ '.webm')\n",
    "with open(webmfile, 'wb') as file:\n",
    "    file.write(decoded)\n",
    "\n",
    "# now convert the file into wav with the ffmpeg process\n",
    "subprocess.call([ 'ffmpeg -i /documents/testnew.webm /documents/testnew.wav'],shell=True)\n"
   ]
  },
  {
   "cell_type": "code",
   "execution_count": null,
   "id": "637cc136",
   "metadata": {},
   "outputs": [],
   "source": [
    "# second way of converting text to audio\n",
    "\n",
    "for i,(name,audio) in enumerate(zip(final_names,final_audio)):\n",
    "    decodedData = base64.b64decode(audio)\n",
    "    webmfile = path+\"temp.webm\"\n",
    "    with open(webmfile, 'wb') as file:\n",
    "           file.write(decodedData)\n",
    "\n",
    "    ff = FFmpeg(\n",
    "           # executable = 'C:/Program Files/ffmpeg-2020/bin/ffmpeg.exe',\n",
    "            inputs={path+'temp.webm':None},\n",
    "            outputs = {path+name +'.wav':'-c:a pcm_f32le'})\n",
    "    ff.cmd\n",
    "    ff.run()\n",
    "    os.remove(path+\"temp.webm\") \n"
   ]
  }
 ],
 "metadata": {
  "kernelspec": {
   "display_name": "Python 3 (ipykernel)",
   "language": "python",
   "name": "python3"
  },
  "language_info": {
   "codemirror_mode": {
    "name": "ipython",
    "version": 3
   },
   "file_extension": ".py",
   "mimetype": "text/x-python",
   "name": "python",
   "nbconvert_exporter": "python",
   "pygments_lexer": "ipython3",
   "version": "3.8.19"
  }
 },
 "nbformat": 4,
 "nbformat_minor": 5
}
